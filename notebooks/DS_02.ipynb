{
 "cells": [
  {
   "cell_type": "markdown",
   "id": "e32161b7",
   "metadata": {},
   "source": [
    "# Unleashing Pandas"
   ]
  },
  {
   "cell_type": "markdown",
   "id": "0696d24e",
   "metadata": {},
   "source": [
    "## Importing a `csv` file"
   ]
  },
  {
   "cell_type": "markdown",
   "id": "943e6d64",
   "metadata": {},
   "source": [
    "Let's play with the global land temperature dataset containing country-specific data from 1743 to 2013 downloaded from [https://www.kaggle.com/berkeleyearth/climate-change-earth-surface-temperature-data/version/2?select=GlobalLandTemperaturesByCountry.csv](https://www.kaggle.com/berkeleyearth/climate-change-earth-surface-temperature-data/version/2?select=GlobalLandTemperaturesByCountry.csv). You can find a copy of the `csv` file in the `datasets` folder [https://github.com/raghurama123/DataScience/tree/main/datasets](https://github.com/raghurama123/DataScience/tree/main/datasets). "
   ]
  },
  {
   "cell_type": "code",
   "execution_count": null,
   "id": "6d1682ae",
   "metadata": {},
   "outputs": [],
   "source": [
    "import pandas as pd\n",
    "temp=pd.read_csv('../datasets/GlobalLandTemperaturesByCountry.csv')\n",
    "temp"
   ]
  },
  {
   "cell_type": "markdown",
   "id": "53c4b3a4",
   "metadata": {},
   "source": [
    "## Remove missing entries"
   ]
  },
  {
   "cell_type": "markdown",
   "id": "4ca80c67",
   "metadata": {},
   "source": [
    "There are over half-a-million records, but some entries are missing denoted by `NaN`. Let's filter these and look at the remaining entries."
   ]
  },
  {
   "cell_type": "code",
   "execution_count": null,
   "id": "cdce96a0",
   "metadata": {},
   "outputs": [],
   "source": [
    "temp.isna().sum() # Total number of entries to be dropped."
   ]
  },
  {
   "cell_type": "code",
   "execution_count": null,
   "id": "c6037fb6",
   "metadata": {},
   "outputs": [],
   "source": [
    "temp=temp.dropna().reset_index(drop=True) # drop NaN entries and reassign row-indices\n",
    "temp"
   ]
  },
  {
   "cell_type": "markdown",
   "id": "8f15b42a",
   "metadata": {},
   "source": [
    "## Quick inspection and pruning of the dataset"
   ]
  },
  {
   "cell_type": "code",
   "execution_count": null,
   "id": "9a86648e",
   "metadata": {},
   "outputs": [],
   "source": [
    "temp.describe()"
   ]
  },
  {
   "cell_type": "markdown",
   "id": "70dc92ff",
   "metadata": {},
   "source": [
    "It looks like some entries have large uncertainties. Note that that maximum uncertainty is as large as 15 degree Celsius. Let's remove these data points."
   ]
  },
  {
   "cell_type": "code",
   "execution_count": null,
   "id": "b0d3b1d6",
   "metadata": {},
   "outputs": [],
   "source": [
    "temp=temp[temp['AverageTemperatureUncertainty'] <= 0.5]  # Retain data with uncertainty < 0.5 degree Celsius\n",
    "temp.describe()"
   ]
  },
  {
   "cell_type": "code",
   "execution_count": null,
   "id": "87fce797",
   "metadata": {},
   "outputs": [],
   "source": [
    "temp"
   ]
  },
  {
   "cell_type": "markdown",
   "id": "795b501c",
   "metadata": {},
   "source": [
    "Looks like the row-indices are not reset. So, let's reset them."
   ]
  },
  {
   "cell_type": "code",
   "execution_count": null,
   "id": "dc2760dc",
   "metadata": {},
   "outputs": [],
   "source": [
    "temp=temp.reset_index(drop=True)\n",
    "temp"
   ]
  },
  {
   "cell_type": "code",
   "execution_count": null,
   "id": "706e16c0",
   "metadata": {},
   "outputs": [],
   "source": [
    "temp.head()  # first few entries"
   ]
  },
  {
   "cell_type": "code",
   "execution_count": null,
   "id": "89edbf1d",
   "metadata": {},
   "outputs": [],
   "source": [
    "temp.tail() # last few entries"
   ]
  },
  {
   "cell_type": "markdown",
   "id": "70dca012",
   "metadata": {},
   "source": [
    "## Now we can do some meaningful analysis"
   ]
  },
  {
   "cell_type": "code",
   "execution_count": null,
   "id": "a00e2bdb",
   "metadata": {},
   "outputs": [],
   "source": [
    "minval=temp['AverageTemperature'].min()\n",
    "coolest=temp[temp['AverageTemperature'] ==minval] \n",
    "print(coolest)"
   ]
  },
  {
   "cell_type": "code",
   "execution_count": null,
   "id": "9f1fff3e",
   "metadata": {},
   "outputs": [],
   "source": [
    "tempGreenland=temp[temp[\"Country\"] == \"Greenland\"]\n",
    "tempGreenland['AverageTemperature'].plot.hist(bins=200, alpha=1.0)"
   ]
  },
  {
   "cell_type": "code",
   "execution_count": null,
   "id": "1910758c",
   "metadata": {},
   "outputs": [],
   "source": [
    "maxval=temp['AverageTemperature'].max()\n",
    "hottest=temp[temp['AverageTemperature'] ==maxval] \n",
    "print(hottest)"
   ]
  },
  {
   "cell_type": "code",
   "execution_count": null,
   "id": "1423b6ca",
   "metadata": {},
   "outputs": [],
   "source": [
    "tempKuwait=temp[temp[\"Country\"] == \"Kuwait\"]\n",
    "tempKuwait['AverageTemperature'].plot.hist(bins=200, alpha=1.0)"
   ]
  },
  {
   "cell_type": "markdown",
   "id": "de1e4367",
   "metadata": {},
   "source": [
    "It is actually possible to sort the entries according to one column. Then you can quickly glance at the extreme data points. "
   ]
  },
  {
   "cell_type": "code",
   "execution_count": null,
   "id": "a927235a",
   "metadata": {},
   "outputs": [],
   "source": [
    "temp.sort_values(by=\"AverageTemperature\")"
   ]
  }
 ],
 "metadata": {
  "kernelspec": {
   "display_name": "Python 3",
   "language": "python",
   "name": "python3"
  },
  "language_info": {
   "codemirror_mode": {
    "name": "ipython",
    "version": 3
   },
   "file_extension": ".py",
   "mimetype": "text/x-python",
   "name": "python",
   "nbconvert_exporter": "python",
   "pygments_lexer": "ipython3",
   "version": "3.9.4"
  }
 },
 "nbformat": 4,
 "nbformat_minor": 5
}
