{
 "cells": [
  {
   "cell_type": "markdown",
   "id": "a5a79961",
   "metadata": {},
   "source": [
    "# TensorFlow"
   ]
  },
  {
   "cell_type": "markdown",
   "id": "afd3aff9",
   "metadata": {},
   "source": [
    "TensorFlow is a library developed by the team of Google that can be used to program various machine learning/deep learning algorithms. Tensorflow has its own way to define datatypes, which we must learn in order to program various algorithms. \n",
    "\n",
    "`Data Flow Graph` is an important feature of Tensorflow. This concept defines the operation of a program as a `graph`, where each basic mathematical oepration is a _node_ and the data that undergoes the mathematical operation is a _edge_. More generally, the edges or the datatypes are multidimensional tensors. "
   ]
  },
  {
   "cell_type": "markdown",
   "id": "919b9180",
   "metadata": {},
   "source": [
    "Following is the version of TensorFlow where this tuorial has been tested. "
   ]
  },
  {
   "cell_type": "code",
   "execution_count": 1,
   "id": "93f31415",
   "metadata": {},
   "outputs": [
    {
     "name": "stdout",
     "output_type": "stream",
     "text": [
      "2.8.0\n"
     ]
    }
   ],
   "source": [
    "import tensorflow as tf\n",
    "print(tf.__version__)"
   ]
  },
  {
   "cell_type": "markdown",
   "id": "1193a11b",
   "metadata": {},
   "source": [
    "## Work with constants and variables"
   ]
  },
  {
   "cell_type": "markdown",
   "id": "c875ce38",
   "metadata": {},
   "source": [
    "Let's look at an example. Let's write a code to convert an angle from degrees to radians using standard Python3 and write the same code using tensor flow."
   ]
  },
  {
   "cell_type": "code",
   "execution_count": 2,
   "id": "14f35047",
   "metadata": {},
   "outputs": [
    {
     "name": "stdout",
     "output_type": "stream",
     "text": [
      "0.7853981633974483\n"
     ]
    }
   ],
   "source": [
    "import numpy as np\n",
    "\n",
    "ang2rad=np.pi/180.0\n",
    "angle_degrees=45.0\n",
    "theta=angle_degrees*ang2rad\n",
    "\n",
    "print(theta)"
   ]
  },
  {
   "cell_type": "markdown",
   "id": "6a5eb46f",
   "metadata": {},
   "source": [
    "Now let's learn how write the same code using tensorflow. We will first declare a constant and see how to print it.  In Python3, what we would do is the following."
   ]
  },
  {
   "cell_type": "code",
   "execution_count": 3,
   "id": "1569e1bf",
   "metadata": {},
   "outputs": [
    {
     "name": "stdout",
     "output_type": "stream",
     "text": [
      "3.141592653589793\n"
     ]
    }
   ],
   "source": [
    "pi=np.pi\n",
    "\n",
    "print(pi)"
   ]
  },
  {
   "cell_type": "markdown",
   "id": "a7727ccf",
   "metadata": {},
   "source": [
    "In TensorFlow, you have to define all your data as a constant or a variable. So, we can try the following code."
   ]
  },
  {
   "cell_type": "code",
   "execution_count": 4,
   "id": "d7243700",
   "metadata": {},
   "outputs": [
    {
     "name": "stdout",
     "output_type": "stream",
     "text": [
      "tf.Tensor(3.1415927, shape=(), dtype=float32)\n"
     ]
    }
   ],
   "source": [
    "pi=tf.constant(np.pi)\n",
    "\n",
    "print(pi)"
   ]
  },
  {
   "cell_type": "markdown",
   "id": "f5c7d254",
   "metadata": {},
   "source": [
    "Now you can see that the constant is stored as a Tensor (with the shape of a scalar) but the output is not as expected. Suppose we only want to see the number `3.1415927` as the output, you can try the following"
   ]
  },
  {
   "cell_type": "code",
   "execution_count": 5,
   "id": "f4d51b97",
   "metadata": {},
   "outputs": [
    {
     "name": "stdout",
     "output_type": "stream",
     "text": [
      "3.1415927\n"
     ]
    }
   ],
   "source": [
    "pi=tf.constant(np.pi)\n",
    "print(pi.numpy())"
   ]
  },
  {
   "cell_type": "markdown",
   "id": "e3b6b928",
   "metadata": {},
   "source": [
    "You must have noticed that our result using standard Python has more significant figure, `3.141592653589793`, than the result printed using TensorFlow, `3.1415927`. We can provide another argument `dtype` as we have done for `numpy` and state that we are interested in a 64-bit float."
   ]
  },
  {
   "cell_type": "code",
   "execution_count": 6,
   "id": "615b8d04",
   "metadata": {},
   "outputs": [
    {
     "name": "stdout",
     "output_type": "stream",
     "text": [
      "3.141592653589793\n"
     ]
    }
   ],
   "source": [
    "pi=tf.constant(np.pi,dtype=tf.float64)\n",
    "print(pi.numpy())"
   ]
  },
  {
   "cell_type": "markdown",
   "id": "308b31e3",
   "metadata": {},
   "source": [
    "Now, let's move to writing the entire code to convert the angle from degrees to radian"
   ]
  },
  {
   "cell_type": "code",
   "execution_count": 7,
   "id": "7050b960",
   "metadata": {},
   "outputs": [
    {
     "name": "stdout",
     "output_type": "stream",
     "text": [
      "0.7853981633974483\n"
     ]
    }
   ],
   "source": [
    "# Build a dataflow graph.\n",
    "ang2rad = tf.constant(np.pi/180.0,dtype=tf.float64)       # Edge\n",
    "angle_degrees= tf.constant(45.0,dtype=tf.float64)         # Edge\n",
    "theta=tf.multiply(angle_degrees,ang2rad)                  # Node connecting the 2 edges\n",
    "\n",
    "print(theta.numpy())"
   ]
  },
  {
   "cell_type": "markdown",
   "id": "1a513847",
   "metadata": {},
   "source": [
    "Or, simply"
   ]
  },
  {
   "cell_type": "code",
   "execution_count": 8,
   "id": "c4b14834",
   "metadata": {},
   "outputs": [
    {
     "name": "stdout",
     "output_type": "stream",
     "text": [
      "0.7853981633974483\n"
     ]
    }
   ],
   "source": [
    "ang2rad = tf.constant(np.pi/180.0,dtype=tf.float64)       # Edge\n",
    "angle_degrees= tf.constant(45.0,dtype=tf.float64)         # Edge\n",
    "theta=angle_degrees*ang2rad\n",
    "\n",
    "print(theta.numpy())"
   ]
  },
  {
   "cell_type": "markdown",
   "id": "47dda7df",
   "metadata": {},
   "source": [
    "Let's declare `angle_degrees` as a variable because, in particle, this is how we might use this piece of code. For every angle in degrees, we may want a value in radian."
   ]
  },
  {
   "cell_type": "code",
   "execution_count": 9,
   "id": "446cf27c",
   "metadata": {},
   "outputs": [
    {
     "name": "stdout",
     "output_type": "stream",
     "text": [
      "0.7853981633974483\n"
     ]
    }
   ],
   "source": [
    "ang2rad = tf.constant(np.pi/180.0,dtype=tf.float64)                 \n",
    "angle_degrees= tf.Variable(initial_value=45.0,dtype=tf.float64)  \n",
    "\n",
    "theta=angle_degrees*ang2rad \n",
    "print(theta.numpy())"
   ]
  },
  {
   "cell_type": "markdown",
   "id": "921397bb",
   "metadata": {},
   "source": [
    "Now, we can write a function and run a TensorFlow session in it and use it in Python."
   ]
  },
  {
   "cell_type": "code",
   "execution_count": 10,
   "id": "36a3f612",
   "metadata": {},
   "outputs": [],
   "source": [
    "import tensorflow as tf\n",
    "\n",
    "def tf_deg2rad(angle):    \n",
    "    \n",
    "    ang2rad = tf.constant(np.pi/180.0,dtype=tf.float64)  \n",
    "    angle_degrees= tf.Variable(initial_value=angle,dtype=tf.float64)\n",
    "    theta=ang2rad*angle_degrees\n",
    "    result = theta.numpy()\n",
    "        \n",
    "    return result"
   ]
  },
  {
   "cell_type": "code",
   "execution_count": 11,
   "id": "f2f87957",
   "metadata": {},
   "outputs": [
    {
     "name": "stdout",
     "output_type": "stream",
     "text": [
      "0.5235987755982988\n",
      "0.7853981633974483\n",
      "1.0471975511965976\n",
      "1.5707963267948966\n",
      "3.141592653589793\n"
     ]
    }
   ],
   "source": [
    "for angle in [30,45,60,90,180]:\n",
    "    print(tf_deg2rad(angle))"
   ]
  },
  {
   "cell_type": "markdown",
   "id": "d4f31447",
   "metadata": {},
   "source": [
    "## Working with tensors"
   ]
  },
  {
   "cell_type": "code",
   "execution_count": 12,
   "id": "ec7166eb",
   "metadata": {},
   "outputs": [
    {
     "name": "stdout",
     "output_type": "stream",
     "text": [
      "tf.Tensor([1. 4. 9.], shape=(3,), dtype=float64)\n",
      "No. of dimensions: 1\n",
      "Shape: (3,)\n"
     ]
    }
   ],
   "source": [
    "import tensorflow as tf\n",
    "import numpy as np\n",
    "\n",
    "a = np.array([1,4,9],dtype='float64') # Numpy array\n",
    "\n",
    "tf_a=tf.constant(a) # TensorFlow tensor\n",
    "\n",
    "print(tf_a)\n",
    "\n",
    "print('No. of dimensions:',tf_a.ndim)\n",
    "print('Shape:',tf_a.shape)"
   ]
  },
  {
   "cell_type": "code",
   "execution_count": 13,
   "id": "d9b3a1ad",
   "metadata": {},
   "outputs": [
    {
     "name": "stdout",
     "output_type": "stream",
     "text": [
      "14.0\n"
     ]
    }
   ],
   "source": [
    "sum_a = tf.math.reduce_sum(tf_a)\n",
    "    \n",
    "print(sum_a.numpy())"
   ]
  },
  {
   "cell_type": "code",
   "execution_count": 14,
   "id": "e9832594",
   "metadata": {},
   "outputs": [
    {
     "name": "stdout",
     "output_type": "stream",
     "text": [
      "36.0\n"
     ]
    }
   ],
   "source": [
    "prod_a = tf.math.reduce_prod(tf_a)\n",
    "    \n",
    "print(prod_a.numpy())"
   ]
  },
  {
   "cell_type": "code",
   "execution_count": 15,
   "id": "a1693901",
   "metadata": {},
   "outputs": [
    {
     "name": "stdout",
     "output_type": "stream",
     "text": [
      "[ 2.  5. 10.]\n"
     ]
    }
   ],
   "source": [
    "a = np.array([1,1,1],dtype='float64') \n",
    "tf_a=tf.constant(a)\n",
    "\n",
    "b = np.array([1,4,9],dtype='float64') \n",
    "tf_b=tf.constant(b) \n",
    "\n",
    "tf_c=tf_a+tf_b\n",
    "\n",
    "print(tf_c.numpy())"
   ]
  },
  {
   "cell_type": "markdown",
   "id": "39cb937e",
   "metadata": {},
   "source": [
    "## Automatic differentiation"
   ]
  },
  {
   "cell_type": "markdown",
   "id": "de9f4ae6",
   "metadata": {},
   "source": [
    "Optimization of a model depends "
   ]
  },
  {
   "cell_type": "code",
   "execution_count": 65,
   "id": "752fab11",
   "metadata": {},
   "outputs": [],
   "source": [
    "import tensorflow as tf\n",
    "\n",
    "pi=[]\n",
    "trials=[]\n",
    "for N_trials in range(1,5000,1000):\n",
    "    \n",
    "    trials.append(N_trials)\n",
    "\n",
    "    Area_sq=0\n",
    "    Area_cir=0\n",
    "\n",
    "    for i in range(N_trials):\n",
    "        x_rand=tf.random.uniform([1],minval=[-1],maxval=[1],dtype='float64')\n",
    "        x=x_rand.numpy()\n",
    "        y_rand=tf.random.uniform([1],minval=[-1],maxval=[1],dtype='float64')\n",
    "        y=y_rand.numpy()\n",
    "    \n",
    "        Area_sq=Area_sq+1\n",
    "    \n",
    "        if x**2 + y**2 < 1:\n",
    "            Area_cir=Area_cir+1  \n",
    "    \n",
    "    pi.append(4*Area_cir/Area_sq)"
   ]
  },
  {
   "cell_type": "code",
   "execution_count": 66,
   "id": "820a2a35",
   "metadata": {},
   "outputs": [
    {
     "data": {
      "image/png": "[encoded data removed]",
      "text/plain": [
       "<Figure size 432x288 with 1 Axes>"
      ]
     },
     "metadata": {
      "needs_background": "light"
     },
     "output_type": "display_data"
    }
   ],
   "source": [
    "import matplotlib.pyplot as plt\n",
    "plt.plot(trials,pi)\n",
    "plt.show()"
   ]
  },
  {
   "cell_type": "code",
   "execution_count": null,
   "id": "20b2b9b5",
   "metadata": {},
   "outputs": [],
   "source": []
  }
 ],
 "metadata": {
  "kernelspec": {
   "display_name": "Python 3",
   "language": "python",
   "name": "python3"
  },
  "language_info": {
   "codemirror_mode": {
    "name": "ipython",
    "version": 3
   },
   "file_extension": ".py",
   "mimetype": "text/x-python",
   "name": "python",
   "nbconvert_exporter": "python",
   "pygments_lexer": "ipython3",
   "version": "3.9.4"
  }
 },
 "nbformat": 4,
 "nbformat_minor": 5
}
