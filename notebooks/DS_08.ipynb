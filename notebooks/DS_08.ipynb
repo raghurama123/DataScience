{
 "cells": [
  {
   "cell_type": "markdown",
   "id": "1480c4c7",
   "metadata": {},
   "source": [
    "# TensorFlow"
   ]
  },
  {
   "cell_type": "markdown",
   "id": "a1cd9525",
   "metadata": {},
   "source": [
    "TensorFlow is a library developed by the team of Google that can be used to program various machine learning/deep learning algorithms. Tensorflow has its own way to define datatypes, which we must learn in order to program various algorithms. \n",
    "\n",
    "`Data Flow Graph` is an important feature of Tensorflow. This concept defines the operation of a program as a `graph`, where each basic mathematical oepration is a _node_ and the data that undergoes the mathematical operation is a _edge_. More generally, the edges or the datatypes are multidimensional tensors. "
   ]
  },
  {
   "cell_type": "markdown",
   "id": "a51683a8",
   "metadata": {},
   "source": [
    "Following is the version of TensorFlow where this tuorial has been tested. "
   ]
  },
  {
   "cell_type": "code",
   "execution_count": 1,
   "id": "ea97278d",
   "metadata": {},
   "outputs": [
    {
     "name": "stdout",
     "output_type": "stream",
     "text": [
      "2.8.0\n"
     ]
    }
   ],
   "source": [
    "import tensorflow as tf\n",
    "print(tf.__version__)"
   ]
  },
  {
   "cell_type": "markdown",
   "id": "b8f16013",
   "metadata": {},
   "source": [
    "## Start a session and work with constants and variables"
   ]
  },
  {
   "cell_type": "markdown",
   "id": "9a39fa41",
   "metadata": {},
   "source": [
    "Let's look at an example. Let's write a code to convert an angle from degrees to radians using standard Python3 and write the same code using tensor flow."
   ]
  },
  {
   "cell_type": "code",
   "execution_count": 2,
   "id": "5c3dae13",
   "metadata": {},
   "outputs": [
    {
     "name": "stdout",
     "output_type": "stream",
     "text": [
      "0.7853981633974483\n"
     ]
    }
   ],
   "source": [
    "import numpy as np\n",
    "\n",
    "ang2rad=np.pi/180.0\n",
    "angle_degrees=45.0\n",
    "theta=angle_degrees*ang2rad\n",
    "\n",
    "print(theta)"
   ]
  },
  {
   "cell_type": "markdown",
   "id": "1aedb383",
   "metadata": {},
   "source": [
    "Now let's learn how write the same code using tensorflow. We will first declare a constant and see how to print it.  In Python3, what we would do is the following."
   ]
  },
  {
   "cell_type": "code",
   "execution_count": 3,
   "id": "78cd58c3",
   "metadata": {},
   "outputs": [
    {
     "name": "stdout",
     "output_type": "stream",
     "text": [
      "3.141592653589793\n"
     ]
    }
   ],
   "source": [
    "pi=np.pi\n",
    "\n",
    "print(pi)"
   ]
  },
  {
   "cell_type": "markdown",
   "id": "2c098c82",
   "metadata": {},
   "source": [
    "In TensorFlow, you have to define all your data as a constant or a variable. So, we can try the following code."
   ]
  },
  {
   "cell_type": "code",
   "execution_count": 4,
   "id": "c5f23f9d",
   "metadata": {},
   "outputs": [
    {
     "name": "stdout",
     "output_type": "stream",
     "text": [
      "tf.Tensor(3.1415927, shape=(), dtype=float32)\n"
     ]
    }
   ],
   "source": [
    "pi=tf.constant(np.pi)\n",
    "\n",
    "print(pi)"
   ]
  },
  {
   "cell_type": "markdown",
   "id": "41e8dc6c",
   "metadata": {},
   "source": [
    "Now you can see that the constant is stored as a Tensor (with the shape of a scalar) but the output is not expected. Suppose we only want to see the number `3.1415927` as the output, then we have work with a `session`."
   ]
  },
  {
   "cell_type": "code",
   "execution_count": 5,
   "id": "e87d5d58",
   "metadata": {},
   "outputs": [
    {
     "name": "stdout",
     "output_type": "stream",
     "text": [
      "3.1415927\n"
     ]
    }
   ],
   "source": [
    "with tf.compat.v1.Session() as sess:\n",
    "    pi=tf.constant(np.pi)\n",
    "    result = sess.run(pi)\n",
    "\n",
    "    print(result)"
   ]
  },
  {
   "cell_type": "markdown",
   "id": "6fa125ae",
   "metadata": {},
   "source": [
    "You must have noticed that our result using standard Python has more significant figure, `3.141592653589793`, than the result printed using TensorFlow, `3.1415927`. We can provide another argument `dtype` as we have done for `numpy` and state that we are interested in a 64-bit float."
   ]
  },
  {
   "cell_type": "code",
   "execution_count": 6,
   "id": "fff5f109",
   "metadata": {},
   "outputs": [
    {
     "name": "stdout",
     "output_type": "stream",
     "text": [
      "3.141592653589793\n"
     ]
    }
   ],
   "source": [
    "with tf.compat.v1.Session() as sess:\n",
    "    pi=tf.constant(np.pi,dtype=tf.float64)\n",
    "    result = sess.run(pi)\n",
    "\n",
    "    print(result)"
   ]
  },
  {
   "cell_type": "markdown",
   "id": "33986a77",
   "metadata": {},
   "source": [
    "Now, let's move to writing the entire code to convert the angle from degrees to radian"
   ]
  },
  {
   "cell_type": "code",
   "execution_count": 7,
   "id": "c2e01557",
   "metadata": {},
   "outputs": [
    {
     "name": "stdout",
     "output_type": "stream",
     "text": [
      "0.7853981633974483\n"
     ]
    }
   ],
   "source": [
    "# Start a `Session` to execute the graph.\n",
    "with tf.compat.v1.Session() as sess:\n",
    "\n",
    "    # Build a dataflow graph.\n",
    "    ang2rad = tf.constant(np.pi/180.0,dtype=tf.float64)       # Edge\n",
    "    angle_degrees= tf.constant(45.0,dtype=tf.float64)         # Edge\n",
    "    theta=tf.multiply(angle_degrees,ang2rad)                  # Node connecting the 2 edges\n",
    "\n",
    "    # Execute the graph and store the output\n",
    "    result = sess.run(theta)\n",
    "    print(result)"
   ]
  },
  {
   "cell_type": "markdown",
   "id": "683f77c9",
   "metadata": {},
   "source": [
    "Yes, the code is aready getting a little lengthy. But, still let's try to declare `angle_degrees` as a variable because, in particle, this is how we might use this piece of code. For every angle in degrees, we may want a value in radian."
   ]
  },
  {
   "cell_type": "code",
   "execution_count": 8,
   "id": "7d47eecb",
   "metadata": {},
   "outputs": [
    {
     "name": "stdout",
     "output_type": "stream",
     "text": [
      "0.7853981633974483\n"
     ]
    }
   ],
   "source": [
    "# Start a `Session` to execute the graph.\n",
    "with tf.compat.v1.Session() as sess:\n",
    "\n",
    "    # Build a dataflow graph.\n",
    "    ang2rad = tf.constant(np.pi/180.0,dtype=tf.float64)                   # Edge-constant\n",
    "    \n",
    "    angle_degrees= tf.Variable(initial_value=45.0,dtype=tf.float64)       # Edge-variable\n",
    "    \n",
    "    # We have to create a session to initialize the variable\n",
    "    init = tf.compat.v1.global_variables_initializer()        \n",
    "    sess.run(init)\n",
    "\n",
    "    theta=tf.multiply(angle_degrees,ang2rad)                             # Node connecting the 2 edges\n",
    "\n",
    "    # Execute the graph and store the output\n",
    "    result = sess.run(theta)\n",
    "    print(result)"
   ]
  },
  {
   "cell_type": "markdown",
   "id": "ac7b2a11",
   "metadata": {},
   "source": [
    "Now, we can write a function and run a TensorFlow session in it and use it in Python."
   ]
  },
  {
   "cell_type": "code",
   "execution_count": 9,
   "id": "41d6fda6",
   "metadata": {},
   "outputs": [],
   "source": [
    "def tf_deg2rad(angle):\n",
    "    import tensorflow as tf\n",
    "    \n",
    "    with tf.compat.v1.Session() as sess:\n",
    "    \n",
    "        ang2rad = tf.constant(np.pi/180.0,dtype=tf.float64) # node-1\n",
    "        \n",
    "        # declare a variable and initialize (i.e. run) it\n",
    "        angle_degrees= tf.Variable(initial_value=angle,dtype=tf.float64)  # node-2    \n",
    "        init = tf.compat.v1.global_variables_initializer()        \n",
    "        sess.run(init) \n",
    "\n",
    "        # define a graph and run it\n",
    "        theta=tf.multiply(angle_degrees,ang2rad)        # graph     \n",
    "        result = sess.run(theta)\n",
    "        \n",
    "    return result"
   ]
  },
  {
   "cell_type": "code",
   "execution_count": 10,
   "id": "93357b6a",
   "metadata": {},
   "outputs": [
    {
     "name": "stdout",
     "output_type": "stream",
     "text": [
      "0.5235987755982988\n",
      "0.7853981633974483\n",
      "1.0471975511965976\n",
      "1.5707963267948966\n",
      "3.141592653589793\n"
     ]
    }
   ],
   "source": [
    "for angle in [30,45,60,90,180]:\n",
    "    print(tf_deg2rad(angle))"
   ]
  }
 ],
 "metadata": {
  "kernelspec": {
   "display_name": "Python 3",
   "language": "python",
   "name": "python3"
  },
  "language_info": {
   "codemirror_mode": {
    "name": "ipython",
    "version": 3
   },
   "file_extension": ".py",
   "mimetype": "text/x-python",
   "name": "python",
   "nbconvert_exporter": "python",
   "pygments_lexer": "ipython3",
   "version": "3.9.4"
  }
 },
 "nbformat": 4,
 "nbformat_minor": 5
}
