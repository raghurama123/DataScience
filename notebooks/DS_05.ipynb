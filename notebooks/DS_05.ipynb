{
 "cells": [
  {
   "cell_type": "markdown",
   "id": "77d10e12",
   "metadata": {},
   "source": [
    "# Classification of iris flowers using a linear classifier"
   ]
  },
  {
   "cell_type": "markdown",
   "id": "81f6ab66",
   "metadata": {},
   "source": [
    "Classification is an important technique in data analysis. For example, one would like to develop a model to classify hand-written characters into one of the alphabets in a language. There are a number of methods for such problems, each can be tailored to the dataset at hand and degree of robustness necessary.\n",
    "\n",
    "To begin with, we will apply the classification algoritm on the entire dataset without paritioning the data into training and test sets. "
   ]
  },
  {
   "cell_type": "code",
   "execution_count": 9,
   "id": "d1516f53",
   "metadata": {},
   "outputs": [],
   "source": [
    "from sklearn import datasets\n",
    "iris = datasets.load_iris()\n",
    "x_iris, y_iris = iris.data, iris.target"
   ]
  },
  {
   "cell_type": "code",
   "execution_count": 10,
   "id": "47753318",
   "metadata": {},
   "outputs": [],
   "source": [
    "#from sklearn.model_selection import train_test_split\n",
    "#x_train, x_test, y_train, y_test = train_test_split(x_iris, y_iris, test_size=0.2, random_state=0)"
   ]
  },
  {
   "cell_type": "code",
   "execution_count": 11,
   "id": "9f02ec5b",
   "metadata": {},
   "outputs": [],
   "source": [
    "#from sklearn.preprocessing import StandardScaler\n",
    "#\n",
    "#sc = StandardScaler()\n",
    "#x_train = sc.fit_transform(x_train)\n",
    "#x_test = sc.transform(x_test)"
   ]
  },
  {
   "cell_type": "code",
   "execution_count": 12,
   "id": "c12ecf83",
   "metadata": {},
   "outputs": [
    {
     "data": {
      "image/png": "[encoded data removed]",
      "text/plain": [
       "<Figure size 432x288 with 1 Axes>"
      ]
     },
     "metadata": {
      "needs_background": "light"
     },
     "output_type": "display_data"
    }
   ],
   "source": [
    "import matplotlib.pyplot as plt\n",
    "colors=['red','greenyellow','blue']\n",
    "for i in range(len(colors)):\n",
    "    xs=x_iris[:,0][y_iris==i]\n",
    "    ys=x_iris[:,1][y_iris==i]\n",
    "    plt.scatter(xs,ys,c=colors[i])\n",
    "plt.figaspect(1.0)\n",
    "plt.legend(iris.target_names)\n",
    "plt.xlabel('Sepal length')\n",
    "plt.ylabel('Sepal width')\n",
    "plt.show()"
   ]
  },
  {
   "cell_type": "code",
   "execution_count": 13,
   "id": "4f40d149",
   "metadata": {},
   "outputs": [
    {
     "data": {
      "text/plain": [
       "SGDClassifier()"
      ]
     },
     "execution_count": 13,
     "metadata": {},
     "output_type": "execute_result"
    }
   ],
   "source": [
    "from sklearn.linear_model import SGDClassifier\n",
    "clf_model=SGDClassifier()\n",
    "clf_model.fit(x_iris[:,0:1], y_iris)"
   ]
  },
  {
   "cell_type": "code",
   "execution_count": 14,
   "id": "33847986",
   "metadata": {},
   "outputs": [
    {
     "data": {
      "text/plain": [
       "array([[-60.68246764],\n",
       "       [ 15.30924679],\n",
       "       [ 55.32345867]])"
      ]
     },
     "execution_count": 14,
     "metadata": {},
     "output_type": "execute_result"
    }
   ],
   "source": [
    "clf_model.coef_"
   ]
  },
  {
   "cell_type": "code",
   "execution_count": 15,
   "id": "7b4666b7",
   "metadata": {},
   "outputs": [
    {
     "data": {
      "text/plain": [
       "array([ 334.29380992,  -40.50576692, -318.69182603])"
      ]
     },
     "execution_count": 15,
     "metadata": {},
     "output_type": "execute_result"
    }
   ],
   "source": [
    "clf_model.intercept_"
   ]
  },
  {
   "cell_type": "code",
   "execution_count": 17,
   "id": "b468bc02",
   "metadata": {},
   "outputs": [],
   "source": [
    "y_pred=clf_model.predict(x_iris[:,0:1])"
   ]
  },
  {
   "cell_type": "code",
   "execution_count": 19,
   "id": "713db0b5",
   "metadata": {},
   "outputs": [
    {
     "name": "stdout",
     "output_type": "stream",
     "text": [
      "0.5333333333333333\n"
     ]
    }
   ],
   "source": [
    "from sklearn import metrics\n",
    "print(metrics.accuracy_score(y_pred,y_iris))"
   ]
  },
  {
   "cell_type": "code",
   "execution_count": 22,
   "id": "85e182f5",
   "metadata": {},
   "outputs": [
    {
     "name": "stdout",
     "output_type": "stream",
     "text": [
      "              precision    recall  f1-score   support\n",
      "\n",
      "           0       0.40      0.91      0.56        22\n",
      "           1       0.96      0.42      0.58       115\n",
      "           2       0.24      0.92      0.38        13\n",
      "\n",
      "    accuracy                           0.53       150\n",
      "   macro avg       0.53      0.75      0.51       150\n",
      "weighted avg       0.82      0.53      0.56       150\n",
      "\n"
     ]
    }
   ],
   "source": [
    "print(metrics.classification_report(y_pred,y_iris))"
   ]
  },
  {
   "cell_type": "code",
   "execution_count": 23,
   "id": "dd7474cc",
   "metadata": {},
   "outputs": [
    {
     "name": "stdout",
     "output_type": "stream",
     "text": [
      "              precision    recall  f1-score   support\n",
      "\n",
      "      setosa       0.40      0.91      0.56        22\n",
      "  versicolor       0.96      0.42      0.58       115\n",
      "   virginica       0.24      0.92      0.38        13\n",
      "\n",
      "    accuracy                           0.53       150\n",
      "   macro avg       0.53      0.75      0.51       150\n",
      "weighted avg       0.82      0.53      0.56       150\n",
      "\n"
     ]
    }
   ],
   "source": [
    "print(metrics.classification_report(y_pred,y_iris,target_names=iris.target_names))"
   ]
  },
  {
   "cell_type": "code",
   "execution_count": null,
   "id": "fa903998",
   "metadata": {},
   "outputs": [],
   "source": []
  }
 ],
 "metadata": {
  "kernelspec": {
   "display_name": "Python 3",
   "language": "python",
   "name": "python3"
  },
  "language_info": {
   "codemirror_mode": {
    "name": "ipython",
    "version": 3
   },
   "file_extension": ".py",
   "mimetype": "text/x-python",
   "name": "python",
   "nbconvert_exporter": "python",
   "pygments_lexer": "ipython3",
   "version": "3.9.4"
  }
 },
 "nbformat": 4,
 "nbformat_minor": 5
}
