{
 "cells": [
  {
   "cell_type": "markdown",
   "id": "448c96a1",
   "metadata": {},
   "source": [
    "# Python dictionary and Pandas dataframe"
   ]
  },
  {
   "cell_type": "markdown",
   "id": "57ed2f9f",
   "metadata": {},
   "source": [
    "## `dict` in Python"
   ]
  },
  {
   "cell_type": "markdown",
   "id": "ff77eca2",
   "metadata": {},
   "source": [
    "You may have some idea about the elementary datatypes in Python such as `integer`, `float`, `complex`, and `string`. You probably also know that one can make `lists` and `arrays` of elementary datatypes to form derived datatypes. In Python software design, one of the most useful derived datatypes is `dict` denoting a dictionary.\n",
    "\n",
    "A `dict` is a set of key/value pairs. Here is an example inspired by Star Wars."
   ]
  },
  {
   "cell_type": "code",
   "execution_count": 1,
   "id": "8809e4cd",
   "metadata": {},
   "outputs": [],
   "source": [
    "swdict={               \\\n",
    "        'Luke':23,     \\\n",
    "        'Leia':23,     \\\n",
    "        'Hans Solo':36,\\\n",
    "        'Chewbacca':203\\\n",
    "       }"
   ]
  },
  {
   "cell_type": "code",
   "execution_count": 2,
   "id": "db385c9e",
   "metadata": {},
   "outputs": [
    {
     "name": "stdout",
     "output_type": "stream",
     "text": [
      "{'Luke': 23, 'Leia': 23, 'Hans Solo': 36, 'Chewbacca': 203}\n"
     ]
    }
   ],
   "source": [
    "print(swdict)"
   ]
  },
  {
   "cell_type": "code",
   "execution_count": 3,
   "id": "2830a73d",
   "metadata": {},
   "outputs": [
    {
     "name": "stdout",
     "output_type": "stream",
     "text": [
      "<class 'dict'>\n"
     ]
    }
   ],
   "source": [
    "print(type(swdict))"
   ]
  },
  {
   "cell_type": "markdown",
   "id": "06d0d2ba",
   "metadata": {},
   "source": [
    "You can query (i.e. get/obtain) the value of an element (i.e. an entry) in the set py providing the corresponding key (i.e. label) as a string argument."
   ]
  },
  {
   "cell_type": "code",
   "execution_count": 4,
   "id": "d8e9cfc7",
   "metadata": {},
   "outputs": [
    {
     "data": {
      "text/plain": [
       "203"
      ]
     },
     "execution_count": 4,
     "metadata": {},
     "output_type": "execute_result"
    }
   ],
   "source": [
    "swdict['Chewbacca']"
   ]
  },
  {
   "cell_type": "code",
   "execution_count": 5,
   "id": "6567e46d",
   "metadata": {},
   "outputs": [
    {
     "name": "stdout",
     "output_type": "stream",
     "text": [
      "'Chewbacca' is the key and  203  is its value\n"
     ]
    }
   ],
   "source": [
    "print('\\'Chewbacca\\' is the key and ', swdict['Chewbacca'], ' is its value')"
   ]
  },
  {
   "cell_type": "markdown",
   "id": "7ea0f4c4",
   "metadata": {},
   "source": [
    "Let's update the dictionary, i.e. add a new entry"
   ]
  },
  {
   "cell_type": "code",
   "execution_count": 6,
   "id": "5f060b45",
   "metadata": {},
   "outputs": [
    {
     "name": "stdout",
     "output_type": "stream",
     "text": [
      "{'Luke': 23, 'Leia': 23, 'Hans Solo': 36, 'Chewbacca': 203, 'Darth Vader': 45}\n"
     ]
    }
   ],
   "source": [
    "swdict['Darth Vader']=45 # add an entry\n",
    "print(swdict) "
   ]
  },
  {
   "cell_type": "markdown",
   "id": "09dac7f2",
   "metadata": {},
   "source": [
    "You can also remove an entry from the dictionary"
   ]
  },
  {
   "cell_type": "code",
   "execution_count": 7,
   "id": "a8a79904",
   "metadata": {},
   "outputs": [
    {
     "name": "stdout",
     "output_type": "stream",
     "text": [
      "{'Luke': 23, 'Hans Solo': 36, 'Chewbacca': 203, 'Darth Vader': 45}\n"
     ]
    }
   ],
   "source": [
    "del swdict['Leia'] # remove an entry\n",
    "print(swdict) "
   ]
  },
  {
   "cell_type": "markdown",
   "id": "06a5c793",
   "metadata": {},
   "source": [
    "You can delete the entire dictionary if needed"
   ]
  },
  {
   "cell_type": "code",
   "execution_count": 8,
   "id": "87c94d15",
   "metadata": {},
   "outputs": [],
   "source": [
    "del swdict \n",
    "# uncomment the following line and `Run`\n",
    "#print(swdict) "
   ]
  },
  {
   "cell_type": "markdown",
   "id": "0857fc67",
   "metadata": {},
   "source": [
    "Let's declare the dictionary again and learn some more options"
   ]
  },
  {
   "cell_type": "code",
   "execution_count": 9,
   "id": "3182054f",
   "metadata": {},
   "outputs": [
    {
     "name": "stdout",
     "output_type": "stream",
     "text": [
      "{'Luke': 23, 'Leia': 23, 'Hans Solo': 36, 'Darth Vader': 45, 'obi': 57, 'Chewbacca': 203}\n"
     ]
    }
   ],
   "source": [
    "swdict_full={'Luke':23,'Leia':23,'Hans Solo':36,'Darth Vader':45,'obi':57,'Chewbacca':203} \n",
    "print(swdict_full)"
   ]
  },
  {
   "cell_type": "code",
   "execution_count": 10,
   "id": "336528c8",
   "metadata": {},
   "outputs": [
    {
     "name": "stdout",
     "output_type": "stream",
     "text": [
      "6\n"
     ]
    }
   ],
   "source": [
    "print(len(swdict_full)) # Number of entries"
   ]
  },
  {
   "cell_type": "code",
   "execution_count": 11,
   "id": "5b9e4145",
   "metadata": {},
   "outputs": [
    {
     "name": "stdout",
     "output_type": "stream",
     "text": [
      "{'Leia': None, 'Luke': None}\n"
     ]
    }
   ],
   "source": [
    "subset=('Leia','Luke')\n",
    "swdict_subset= swdict_full.fromkeys(subset)\n",
    "print(swdict_subset)"
   ]
  },
  {
   "cell_type": "code",
   "execution_count": 12,
   "id": "fc3df655",
   "metadata": {},
   "outputs": [
    {
     "name": "stdout",
     "output_type": "stream",
     "text": [
      "{'Leia': '23', 'Luke': '23'}\n"
     ]
    }
   ],
   "source": [
    "subset=('Leia','Luke')\n",
    "swdict_subset= swdict_full.fromkeys(subset,'23')\n",
    "print(swdict_subset)"
   ]
  },
  {
   "cell_type": "code",
   "execution_count": 13,
   "id": "1dbba27c",
   "metadata": {},
   "outputs": [
    {
     "name": "stdout",
     "output_type": "stream",
     "text": [
      "dict_keys(['Luke', 'Leia', 'Hans Solo', 'Darth Vader', 'obi', 'Chewbacca'])\n"
     ]
    }
   ],
   "source": [
    "print(swdict_full.keys())"
   ]
  },
  {
   "cell_type": "code",
   "execution_count": 14,
   "id": "66178352",
   "metadata": {},
   "outputs": [
    {
     "name": "stdout",
     "output_type": "stream",
     "text": [
      "dict_values([23, 23, 36, 45, 57, 203])\n"
     ]
    }
   ],
   "source": [
    "print(swdict_full.values())"
   ]
  },
  {
   "cell_type": "code",
   "execution_count": 15,
   "id": "26f5c1be",
   "metadata": {},
   "outputs": [
    {
     "name": "stdout",
     "output_type": "stream",
     "text": [
      "{'Luke': 23, 'Leia': 23, 'Hans Solo': 36, 'Darth Vader': 45, 'obi': 57, 'Chewbacca': 203, 'Yoda': 900}\n"
     ]
    }
   ],
   "source": [
    "new_character={'Yoda':900}\n",
    "swdict_full.update(new_character) \n",
    "print(swdict_full)"
   ]
  }
 ],
 "metadata": {
  "kernelspec": {
   "display_name": "Python 3",
   "language": "python",
   "name": "python3"
  },
  "language_info": {
   "codemirror_mode": {
    "name": "ipython",
    "version": 3
   },
   "file_extension": ".py",
   "mimetype": "text/x-python",
   "name": "python",
   "nbconvert_exporter": "python",
   "pygments_lexer": "ipython3",
   "version": "3.9.4"
  }
 },
 "nbformat": 4,
 "nbformat_minor": 5
}
