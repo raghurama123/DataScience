{
 "cells": [
  {
   "cell_type": "markdown",
   "id": "9129ed84",
   "metadata": {},
   "source": [
    "# Python dictionary and Pandas dataframe"
   ]
  },
  {
   "cell_type": "markdown",
   "id": "128e1a55",
   "metadata": {},
   "source": [
    "## `dict` in Python"
   ]
  },
  {
   "cell_type": "markdown",
   "id": "c084367e",
   "metadata": {},
   "source": [
    "You may have some idea about the elementary datatypes in Python such as `integer`, `float`, `complex`, and `string`. You probably also know that one can make `lists` and `arrays` of elementary datatypes to form derived \n",
    "datatypes. In Python software design, one of the most useful derived datatypes is `dict` denoting a dictionary.\n",
    "\n",
    "A `dict` is a set of key/value pairs. Here is an example inspired by Star Wars."
   ]
  },
  {
   "cell_type": "code",
   "execution_count": 1,
   "id": "3ed39d89",
   "metadata": {},
   "outputs": [],
   "source": [
    "swdict={               \\\n",
    "        'Luke':23,     \\\n",
    "        'Leia':23,     \\\n",
    "        'Hans Solo':36,\\\n",
    "        'Chewbacca':203\\\n",
    "       }"
   ]
  },
  {
   "cell_type": "code",
   "execution_count": 2,
   "id": "58d4ebe7",
   "metadata": {},
   "outputs": [
    {
     "name": "stdout",
     "output_type": "stream",
     "text": [
      "{'Luke': 23, 'Leia': 23, 'Hans Solo': 36, 'Chewbacca': 203}\n"
     ]
    }
   ],
   "source": [
    "print(swdict)"
   ]
  },
  {
   "cell_type": "code",
   "execution_count": 3,
   "id": "9efefadf",
   "metadata": {},
   "outputs": [
    {
     "name": "stdout",
     "output_type": "stream",
     "text": [
      "<class 'dict'>\n"
     ]
    }
   ],
   "source": [
    "print(type(swdict))"
   ]
  },
  {
   "cell_type": "markdown",
   "id": "74a2f4b5",
   "metadata": {},
   "source": [
    "You can query (i.e. get/obtain) the value of an element (i.e. an entry) in the set py providing the corresponding key (i.e. label) as a string argument."
   ]
  },
  {
   "cell_type": "code",
   "execution_count": 4,
   "id": "8aca31e4",
   "metadata": {},
   "outputs": [
    {
     "data": {
      "text/plain": [
       "203"
      ]
     },
     "execution_count": 4,
     "metadata": {},
     "output_type": "execute_result"
    }
   ],
   "source": [
    "swdict['Chewbacca']"
   ]
  },
  {
   "cell_type": "code",
   "execution_count": 5,
   "id": "f24d15d2",
   "metadata": {},
   "outputs": [
    {
     "name": "stdout",
     "output_type": "stream",
     "text": [
      "'Chewbacca' is the key and  203  is its value\n"
     ]
    }
   ],
   "source": [
    "print('\\'Chewbacca\\' is the key and ', swdict['Chewbacca'], ' is its value')"
   ]
  },
  {
   "cell_type": "markdown",
   "id": "8f5c5544",
   "metadata": {},
   "source": [
    "Let's update the dictionary, i.e. add a new entry"
   ]
  },
  {
   "cell_type": "code",
   "execution_count": 6,
   "id": "d1c536b8",
   "metadata": {},
   "outputs": [
    {
     "name": "stdout",
     "output_type": "stream",
     "text": [
      "{'Luke': 23, 'Leia': 23, 'Hans Solo': 36, 'Chewbacca': 203, 'Darth Vader': 45}\n"
     ]
    }
   ],
   "source": [
    "swdict['Darth Vader']=45 # add an entry\n",
    "print(swdict) "
   ]
  },
  {
   "cell_type": "markdown",
   "id": "1e3ceb8e",
   "metadata": {},
   "source": [
    "You can also remove an entry from the dictionary"
   ]
  },
  {
   "cell_type": "code",
   "execution_count": 7,
   "id": "0d557b37",
   "metadata": {},
   "outputs": [
    {
     "name": "stdout",
     "output_type": "stream",
     "text": [
      "{'Luke': 23, 'Hans Solo': 36, 'Chewbacca': 203, 'Darth Vader': 45}\n"
     ]
    }
   ],
   "source": [
    "del swdict['Leia'] # remove an entry\n",
    "print(swdict) "
   ]
  },
  {
   "cell_type": "markdown",
   "id": "3b61ca93",
   "metadata": {},
   "source": [
    "You can delete the entire dictionary if needed"
   ]
  },
  {
   "cell_type": "code",
   "execution_count": 8,
   "id": "cd8ae4bd",
   "metadata": {},
   "outputs": [],
   "source": [
    "del swdict \n",
    "# uncomment the following line and `Run`\n",
    "#print(swdict) "
   ]
  },
  {
   "cell_type": "markdown",
   "id": "0d887e1b",
   "metadata": {},
   "source": [
    "Let's declare the dictionary again and learn some more options"
   ]
  },
  {
   "cell_type": "code",
   "execution_count": 9,
   "id": "4c68b361",
   "metadata": {},
   "outputs": [
    {
     "name": "stdout",
     "output_type": "stream",
     "text": [
      "{'Luke': 23, 'Leia': 23, 'Hans Solo': 36, 'Darth Vader': 45, 'obi': 57, 'Chewbacca': 203}\n"
     ]
    }
   ],
   "source": [
    "swdict_full={'Luke':23,'Leia':23,'Hans Solo':36,'Darth Vader':45,'obi':57,'Chewbacca':203} \n",
    "print(swdict_full)"
   ]
  },
  {
   "cell_type": "code",
   "execution_count": 10,
   "id": "41a7c07b",
   "metadata": {},
   "outputs": [
    {
     "name": "stdout",
     "output_type": "stream",
     "text": [
      "6\n"
     ]
    }
   ],
   "source": [
    "print(len(swdict_full)) # Number of entries"
   ]
  },
  {
   "cell_type": "code",
   "execution_count": 11,
   "id": "ed2f271a",
   "metadata": {},
   "outputs": [
    {
     "name": "stdout",
     "output_type": "stream",
     "text": [
      "{'Leia': None, 'Luke': None}\n"
     ]
    }
   ],
   "source": [
    "subset=('Leia','Luke')\n",
    "swdict_subset= swdict_full.fromkeys(subset)\n",
    "print(swdict_subset)"
   ]
  },
  {
   "cell_type": "code",
   "execution_count": 12,
   "id": "36443849",
   "metadata": {},
   "outputs": [
    {
     "name": "stdout",
     "output_type": "stream",
     "text": [
      "{'Leia': '23', 'Luke': '23'}\n"
     ]
    }
   ],
   "source": [
    "subset=('Leia','Luke')\n",
    "swdict_subset= swdict_full.fromkeys(subset,'23')\n",
    "print(swdict_subset)"
   ]
  },
  {
   "cell_type": "code",
   "execution_count": 13,
   "id": "f516b343",
   "metadata": {},
   "outputs": [
    {
     "name": "stdout",
     "output_type": "stream",
     "text": [
      "dict_keys(['Luke', 'Leia', 'Hans Solo', 'Darth Vader', 'obi', 'Chewbacca'])\n"
     ]
    }
   ],
   "source": [
    "print(swdict_full.keys())"
   ]
  },
  {
   "cell_type": "code",
   "execution_count": 14,
   "id": "a1c38020",
   "metadata": {},
   "outputs": [
    {
     "name": "stdout",
     "output_type": "stream",
     "text": [
      "dict_values([23, 23, 36, 45, 57, 203])\n"
     ]
    }
   ],
   "source": [
    "print(swdict_full.values())"
   ]
  },
  {
   "cell_type": "code",
   "execution_count": 15,
   "id": "9a428bd4",
   "metadata": {},
   "outputs": [
    {
     "name": "stdout",
     "output_type": "stream",
     "text": [
      "{'Luke': 23, 'Leia': 23, 'Hans Solo': 36, 'Darth Vader': 45, 'obi': 57, 'Chewbacca': 203, 'Yoda': 900}\n"
     ]
    }
   ],
   "source": [
    "new_character={'Yoda':900}\n",
    "swdict_full.update(new_character) \n",
    "print(swdict_full)"
   ]
  },
  {
   "cell_type": "markdown",
   "id": "a00396bf",
   "metadata": {},
   "source": [
    "## Series, Dataframe, and Panel in Pandas"
   ]
  },
  {
   "cell_type": "markdown",
   "id": "4d0d6cdd",
   "metadata": {},
   "source": [
    "```\n",
    "Data Structure   Dimension   Description\n",
    "Series               1         1D array   (Homogeneous data, Size immutable, Value mutable)\n",
    "DataFrame            2         2D array - container of series (Hetegeneous, Size and Value mutable)\n",
    "Panel                3         3D array - container of DataFrame\n",
    "```"
   ]
  },
  {
   "cell_type": "code",
   "execution_count": 16,
   "id": "19415b3d",
   "metadata": {},
   "outputs": [],
   "source": [
    "import pandas as pd"
   ]
  },
  {
   "cell_type": "code",
   "execution_count": 17,
   "id": "076a7b7e",
   "metadata": {},
   "outputs": [
    {
     "name": "stdout",
     "output_type": "stream",
     "text": [
      "char-1         Luke\n",
      "char-2         Leia\n",
      "char-3    Hans Solo\n",
      "char-4     Chebacca\n",
      "dtype: object\n"
     ]
    }
   ],
   "source": [
    "indices=['char-1','char-2','char-3','char-4']\n",
    "Names=['Luke','Leia','Hans Solo','Chebacca']\n",
    "SW_series_names=pd.Series(Names,indices)\n",
    "print(SW_series_names)"
   ]
  },
  {
   "cell_type": "code",
   "execution_count": 18,
   "id": "536a3dfb",
   "metadata": {},
   "outputs": [
    {
     "name": "stdout",
     "output_type": "stream",
     "text": [
      "char-1     23\n",
      "char-2     23\n",
      "char-3     36\n",
      "char-4    203\n",
      "dtype: int64\n"
     ]
    }
   ],
   "source": [
    "Ages=[23,23,36,203]\n",
    "SW_series_ages=pd.Series(Ages,indices)\n",
    "print(SW_series_ages)"
   ]
  },
  {
   "cell_type": "code",
   "execution_count": 19,
   "id": "4c0ce2af",
   "metadata": {},
   "outputs": [
    {
     "name": "stdout",
     "output_type": "stream",
     "text": [
      "             Name  Age\n",
      "char-1       Luke   23\n",
      "char-2       Leia   23\n",
      "char-3  Hans Solo   36\n",
      "char-4   Chebacca  203\n"
     ]
    }
   ],
   "source": [
    "SW_df={'Name':SW_series_names, 'Age':SW_series_ages}\n",
    "SW_df=pd.DataFrame(SW_df)\n",
    "print(SW_df)"
   ]
  },
  {
   "cell_type": "markdown",
   "id": "15fe381d",
   "metadata": {},
   "source": [
    "Here's another way to declare directly the dataframe."
   ]
  },
  {
   "cell_type": "code",
   "execution_count": 20,
   "id": "9536f3b4",
   "metadata": {},
   "outputs": [
    {
     "name": "stdout",
     "output_type": "stream",
     "text": [
      "             Name  Age\n",
      "char-1       Luke   23\n",
      "char-2       Leia   23\n",
      "char-3  Hans Solo   36\n",
      "char-4   Chebacca  203\n"
     ]
    }
   ],
   "source": [
    "Names=['Luke','Leia','Hans Solo','Chebacca']\n",
    "Ages=[23,23,36,203]\n",
    "\n",
    "indices=['char-1','char-2','char-3','char-4']\n",
    "\n",
    "SW_df={'Name':pd.Series(Names,indices), 'Age':pd.Series(Ages,indices)}\n",
    "SW_df=pd.DataFrame(SW_df)\n",
    "print(SW_df)"
   ]
  },
  {
   "cell_type": "markdown",
   "id": "df17e210",
   "metadata": {},
   "source": [
    "You can also use default indices that start with 0 for most purposes. "
   ]
  },
  {
   "cell_type": "code",
   "execution_count": 21,
   "id": "ba2d3eab",
   "metadata": {},
   "outputs": [
    {
     "name": "stdout",
     "output_type": "stream",
     "text": [
      "        Name  Age\n",
      "0       Luke   23\n",
      "1       Leia   23\n",
      "2  Hans Solo   36\n",
      "3   Chebacca  203\n"
     ]
    }
   ],
   "source": [
    "data=[['Luke',23],['Leia',23],['Hans Solo',36],['Chebacca',203]]\n",
    "SW_df=pd.DataFrame(data,columns=['Name','Age'])\n",
    "print(SW_df)"
   ]
  },
  {
   "cell_type": "markdown",
   "id": "0ad55674",
   "metadata": {},
   "source": [
    "For non-string columns, you can do quick statistics with the `describe` function."
   ]
  },
  {
   "cell_type": "code",
   "execution_count": 22,
   "id": "65d30f4b",
   "metadata": {},
   "outputs": [
    {
     "data": {
      "text/html": [
       "<div>\n",
       "<style scoped>\n",
       "    .dataframe tbody tr th:only-of-type {\n",
       "        vertical-align: middle;\n",
       "    }\n",
       "\n",
       "    .dataframe tbody tr th {\n",
       "        vertical-align: top;\n",
       "    }\n",
       "\n",
       "    .dataframe thead th {\n",
       "        text-align: right;\n",
       "    }\n",
       "</style>\n",
       "<table border=\"1\" class=\"dataframe\">\n",
       "  <thead>\n",
       "    <tr style=\"text-align: right;\">\n",
       "      <th></th>\n",
       "      <th>Age</th>\n",
       "    </tr>\n",
       "  </thead>\n",
       "  <tbody>\n",
       "    <tr>\n",
       "      <th>count</th>\n",
       "      <td>4.000000</td>\n",
       "    </tr>\n",
       "    <tr>\n",
       "      <th>mean</th>\n",
       "      <td>71.250000</td>\n",
       "    </tr>\n",
       "    <tr>\n",
       "      <th>std</th>\n",
       "      <td>88.046863</td>\n",
       "    </tr>\n",
       "    <tr>\n",
       "      <th>min</th>\n",
       "      <td>23.000000</td>\n",
       "    </tr>\n",
       "    <tr>\n",
       "      <th>25%</th>\n",
       "      <td>23.000000</td>\n",
       "    </tr>\n",
       "    <tr>\n",
       "      <th>50%</th>\n",
       "      <td>29.500000</td>\n",
       "    </tr>\n",
       "    <tr>\n",
       "      <th>75%</th>\n",
       "      <td>77.750000</td>\n",
       "    </tr>\n",
       "    <tr>\n",
       "      <th>max</th>\n",
       "      <td>203.000000</td>\n",
       "    </tr>\n",
       "  </tbody>\n",
       "</table>\n",
       "</div>"
      ],
      "text/plain": [
       "              Age\n",
       "count    4.000000\n",
       "mean    71.250000\n",
       "std     88.046863\n",
       "min     23.000000\n",
       "25%     23.000000\n",
       "50%     29.500000\n",
       "75%     77.750000\n",
       "max    203.000000"
      ]
     },
     "execution_count": 22,
     "metadata": {},
     "output_type": "execute_result"
    }
   ],
   "source": [
    "SW_df.describe()"
   ]
  },
  {
   "cell_type": "markdown",
   "id": "ec47cca5",
   "metadata": {},
   "source": [
    "You can access the first entry using the index `0`"
   ]
  },
  {
   "cell_type": "code",
   "execution_count": 23,
   "id": "001bb81d",
   "metadata": {},
   "outputs": [
    {
     "name": "stdout",
     "output_type": "stream",
     "text": [
      "Name    Luke\n",
      "Age       23\n",
      "Name: 0, dtype: object\n"
     ]
    }
   ],
   "source": [
    "print(SW_df.loc[0])"
   ]
  },
  {
   "cell_type": "markdown",
   "id": "45be8c3c",
   "metadata": {},
   "source": [
    "Again, you can use named indices if you wish."
   ]
  },
  {
   "cell_type": "code",
   "execution_count": 24,
   "id": "056a5cb1",
   "metadata": {},
   "outputs": [
    {
     "name": "stdout",
     "output_type": "stream",
     "text": [
      "             Name  Age\n",
      "char-1       Luke   23\n",
      "char-2       Leia   23\n",
      "char-3  Hans Solo   36\n",
      "char-4   Chebacca  203\n"
     ]
    }
   ],
   "source": [
    "SW_df=pd.DataFrame(data,columns=['Name','Age'],index=['char-1','char-2','char-3','char-4'])\n",
    "print(SW_df)"
   ]
  },
  {
   "cell_type": "markdown",
   "id": "3df71b04",
   "metadata": {},
   "source": [
    "Now if you want to query, you have to use the named index for the row."
   ]
  },
  {
   "cell_type": "code",
   "execution_count": 25,
   "id": "a05bd35a",
   "metadata": {},
   "outputs": [
    {
     "name": "stdout",
     "output_type": "stream",
     "text": [
      "Name    Luke\n",
      "Age       23\n",
      "Name: char-1, dtype: object\n"
     ]
    }
   ],
   "source": [
    "print(SW_df.loc['char-1'])"
   ]
  }
 ],
 "metadata": {
  "kernelspec": {
   "display_name": "Python 3",
   "language": "python",
   "name": "python3"
  },
  "language_info": {
   "codemirror_mode": {
    "name": "ipython",
    "version": 3
   },
   "file_extension": ".py",
   "mimetype": "text/x-python",
   "name": "python",
   "nbconvert_exporter": "python",
   "pygments_lexer": "ipython3",
   "version": "3.9.4"
  }
 },
 "nbformat": 4,
 "nbformat_minor": 5
}
