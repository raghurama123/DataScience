{
 "cells": [
  {
   "cell_type": "markdown",
   "id": "0bb16f4f",
   "metadata": {},
   "source": [
    "# Python dictionary and Pandas dataframe"
   ]
  },
  {
   "cell_type": "markdown",
   "id": "53a09be1",
   "metadata": {},
   "source": [
    "## `dict` in Python"
   ]
  },
  {
   "cell_type": "markdown",
   "id": "9c0c4b6d",
   "metadata": {},
   "source": [
    "You may have some idea about the elementary datatypes in Python such as `integer`, `float`, `complex`, and `string`. You probably also know that one can make `lists` and `arrays` of elementary datatypes to form derived \n",
    "datatypes. In Python software design, one of the most useful derived datatypes is `dict` denoting a dictionary.\n",
    "\n",
    "A `dict` is a set of key/value pairs. Here is an example inspired by Star Wars."
   ]
  },
  {
   "cell_type": "code",
   "execution_count": 1,
   "id": "c10d0809",
   "metadata": {},
   "outputs": [],
   "source": [
    "swdict={               \\\n",
    "        'Luke':23,     \\\n",
    "        'Leia':23,     \\\n",
    "        'Hans Solo':36,\\\n",
    "        'Chewbacca':203\\\n",
    "       }"
   ]
  },
  {
   "cell_type": "code",
   "execution_count": 2,
   "id": "9cecbe73",
   "metadata": {},
   "outputs": [
    {
     "name": "stdout",
     "output_type": "stream",
     "text": [
      "{'Luke': 23, 'Leia': 23, 'Hans Solo': 36, 'Chewbacca': 203}\n"
     ]
    }
   ],
   "source": [
    "print(swdict)"
   ]
  },
  {
   "cell_type": "code",
   "execution_count": 3,
   "id": "8da6acc5",
   "metadata": {},
   "outputs": [
    {
     "name": "stdout",
     "output_type": "stream",
     "text": [
      "<class 'dict'>\n"
     ]
    }
   ],
   "source": [
    "print(type(swdict))"
   ]
  },
  {
   "cell_type": "markdown",
   "id": "12bd5106",
   "metadata": {},
   "source": [
    "You can query (i.e. get/obtain) the value of an element (i.e. an entry) in the set py providing the corresponding key (i.e. label) as a string argument."
   ]
  },
  {
   "cell_type": "code",
   "execution_count": 4,
   "id": "96009363",
   "metadata": {},
   "outputs": [
    {
     "data": {
      "text/plain": [
       "203"
      ]
     },
     "execution_count": 4,
     "metadata": {},
     "output_type": "execute_result"
    }
   ],
   "source": [
    "swdict['Chewbacca']"
   ]
  },
  {
   "cell_type": "code",
   "execution_count": 5,
   "id": "3788d07c",
   "metadata": {},
   "outputs": [
    {
     "name": "stdout",
     "output_type": "stream",
     "text": [
      "'Chewbacca' is the key and  203  is its value\n"
     ]
    }
   ],
   "source": [
    "print('\\'Chewbacca\\' is the key and ', swdict['Chewbacca'], ' is its value')"
   ]
  },
  {
   "cell_type": "markdown",
   "id": "23313c1e",
   "metadata": {},
   "source": [
    "Let's update the dictionary, i.e. add a new entry"
   ]
  },
  {
   "cell_type": "code",
   "execution_count": 6,
   "id": "7115ae1d",
   "metadata": {},
   "outputs": [
    {
     "name": "stdout",
     "output_type": "stream",
     "text": [
      "{'Luke': 23, 'Leia': 23, 'Hans Solo': 36, 'Chewbacca': 203, 'Darth Vader': 45}\n"
     ]
    }
   ],
   "source": [
    "swdict['Darth Vader']=45 # add an entry\n",
    "print(swdict) "
   ]
  },
  {
   "cell_type": "markdown",
   "id": "b084b596",
   "metadata": {},
   "source": [
    "You can also remove an entry from the dictionary"
   ]
  },
  {
   "cell_type": "code",
   "execution_count": 7,
   "id": "8f8ed050",
   "metadata": {},
   "outputs": [
    {
     "name": "stdout",
     "output_type": "stream",
     "text": [
      "{'Luke': 23, 'Hans Solo': 36, 'Chewbacca': 203, 'Darth Vader': 45}\n"
     ]
    }
   ],
   "source": [
    "del swdict['Leia'] # remove an entry\n",
    "print(swdict) "
   ]
  },
  {
   "cell_type": "markdown",
   "id": "2673a656",
   "metadata": {},
   "source": [
    "You can delete the entire dictionary if needed"
   ]
  },
  {
   "cell_type": "code",
   "execution_count": 8,
   "id": "eeaeefe5",
   "metadata": {},
   "outputs": [],
   "source": [
    "del swdict \n",
    "# uncomment the following line and `Run`\n",
    "#print(swdict) "
   ]
  },
  {
   "cell_type": "markdown",
   "id": "d53e1e21",
   "metadata": {},
   "source": [
    "Let's declare the dictionary again and learn some more options"
   ]
  },
  {
   "cell_type": "code",
   "execution_count": 9,
   "id": "4ab236b8",
   "metadata": {},
   "outputs": [
    {
     "name": "stdout",
     "output_type": "stream",
     "text": [
      "{'Luke': 23, 'Leia': 23, 'Hans Solo': 36, 'Darth Vader': 45, 'obi': 57, 'Chewbacca': 203}\n"
     ]
    }
   ],
   "source": [
    "swdict_full={'Luke':23,'Leia':23,'Hans Solo':36,'Darth Vader':45,'obi':57,'Chewbacca':203} \n",
    "print(swdict_full)"
   ]
  },
  {
   "cell_type": "code",
   "execution_count": 10,
   "id": "cabc9241",
   "metadata": {},
   "outputs": [
    {
     "name": "stdout",
     "output_type": "stream",
     "text": [
      "6\n"
     ]
    }
   ],
   "source": [
    "print(len(swdict_full)) # Number of entries"
   ]
  },
  {
   "cell_type": "code",
   "execution_count": 11,
   "id": "f88366e8",
   "metadata": {},
   "outputs": [
    {
     "name": "stdout",
     "output_type": "stream",
     "text": [
      "{'Leia': None, 'Luke': None}\n"
     ]
    }
   ],
   "source": [
    "subset=('Leia','Luke')\n",
    "swdict_subset= swdict_full.fromkeys(subset)\n",
    "print(swdict_subset)"
   ]
  },
  {
   "cell_type": "code",
   "execution_count": 12,
   "id": "99d00812",
   "metadata": {},
   "outputs": [
    {
     "name": "stdout",
     "output_type": "stream",
     "text": [
      "{'Leia': '23', 'Luke': '23'}\n"
     ]
    }
   ],
   "source": [
    "subset=('Leia','Luke')\n",
    "swdict_subset= swdict_full.fromkeys(subset,'23')\n",
    "print(swdict_subset)"
   ]
  },
  {
   "cell_type": "code",
   "execution_count": 13,
   "id": "0684bf23",
   "metadata": {},
   "outputs": [
    {
     "name": "stdout",
     "output_type": "stream",
     "text": [
      "dict_keys(['Luke', 'Leia', 'Hans Solo', 'Darth Vader', 'obi', 'Chewbacca'])\n"
     ]
    }
   ],
   "source": [
    "print(swdict_full.keys())"
   ]
  },
  {
   "cell_type": "code",
   "execution_count": 14,
   "id": "2a9839d1",
   "metadata": {},
   "outputs": [
    {
     "name": "stdout",
     "output_type": "stream",
     "text": [
      "dict_values([23, 23, 36, 45, 57, 203])\n"
     ]
    }
   ],
   "source": [
    "print(swdict_full.values())"
   ]
  },
  {
   "cell_type": "code",
   "execution_count": 15,
   "id": "c2a62a0f",
   "metadata": {},
   "outputs": [
    {
     "name": "stdout",
     "output_type": "stream",
     "text": [
      "{'Luke': 23, 'Leia': 23, 'Hans Solo': 36, 'Darth Vader': 45, 'obi': 57, 'Chewbacca': 203, 'Yoda': 900}\n"
     ]
    }
   ],
   "source": [
    "new_character={'Yoda':900}\n",
    "swdict_full.update(new_character) \n",
    "print(swdict_full)"
   ]
  },
  {
   "cell_type": "markdown",
   "id": "e4d7bb1d",
   "metadata": {},
   "source": [
    "## Dataframe in Pandas"
   ]
  },
  {
   "cell_type": "markdown",
   "id": "daf5deb4",
   "metadata": {},
   "source": [
    "```\n",
    "Data Structure   Dimension   Description\n",
    "Series               1         1D array   (Homogeneous data, Size immutable, Value mutable)\n",
    "DataFrame            2         2D array - container of series (Hetegeneous, Size and Value mutable)\n",
    "Panel                3         3D array - container of DataFrame\n",
    "```"
   ]
  },
  {
   "cell_type": "code",
   "execution_count": 16,
   "id": "5a5372f6",
   "metadata": {},
   "outputs": [],
   "source": [
    "import pandas as pd"
   ]
  },
  {
   "cell_type": "code",
   "execution_count": 17,
   "id": "8fa31b83",
   "metadata": {},
   "outputs": [
    {
     "name": "stdout",
     "output_type": "stream",
     "text": [
      "char-1         Luke\n",
      "char-2         Leia\n",
      "char-3    Hans Solo\n",
      "char-4     Chebacca\n",
      "dtype: object\n"
     ]
    }
   ],
   "source": [
    "indices=['char-1','char-2','char-3','char-4']\n",
    "Names=['Luke','Leia','Hans Solo','Chebacca']\n",
    "SW_series_names=pd.Series(Names,indices)\n",
    "print(SW_series_names)"
   ]
  },
  {
   "cell_type": "code",
   "execution_count": 18,
   "id": "4cc1437b",
   "metadata": {},
   "outputs": [
    {
     "name": "stdout",
     "output_type": "stream",
     "text": [
      "char-1     23\n",
      "char-2     23\n",
      "char-3     36\n",
      "char-4    203\n",
      "dtype: int64\n"
     ]
    }
   ],
   "source": [
    "Ages=[23,23,36,203]\n",
    "SW_series_ages=pd.Series(Ages,indices)\n",
    "print(SW_series_ages)"
   ]
  },
  {
   "cell_type": "code",
   "execution_count": 19,
   "id": "f757ffa5",
   "metadata": {},
   "outputs": [
    {
     "name": "stdout",
     "output_type": "stream",
     "text": [
      "             Name  Age\n",
      "char-1       Luke   23\n",
      "char-2       Leia   23\n",
      "char-3  Hans Solo   36\n",
      "char-4   Chebacca  203\n"
     ]
    }
   ],
   "source": [
    "SW_df={'Name':SW_series_names, 'Age':SW_series_ages}\n",
    "SW_df=pd.DataFrame(SW_df)\n",
    "print(SW_df)"
   ]
  },
  {
   "cell_type": "markdown",
   "id": "5a091a97",
   "metadata": {},
   "source": [
    "Here's another way to declare directly the dataframe."
   ]
  },
  {
   "cell_type": "code",
   "execution_count": 20,
   "id": "ea1d5487",
   "metadata": {},
   "outputs": [
    {
     "name": "stdout",
     "output_type": "stream",
     "text": [
      "             Name  Age\n",
      "char-1       Luke   23\n",
      "char-2       Leia   23\n",
      "char-3  Hans Solo   36\n",
      "char-4   Chebacca  203\n"
     ]
    }
   ],
   "source": [
    "Names=['Luke','Leia','Hans Solo','Chebacca']\n",
    "Ages=[23,23,36,203]\n",
    "\n",
    "indices=['char-1','char-2','char-3','char-4']\n",
    "\n",
    "SW_df={'Name':pd.Series(Names,indices), 'Age':pd.Series(Ages,indices)}\n",
    "SW_df=pd.DataFrame(SW_df)\n",
    "print(SW_df)"
   ]
  },
  {
   "cell_type": "markdown",
   "id": "97f01aa0",
   "metadata": {},
   "source": [
    "You can also use default indices that start with 0 for most purposes. "
   ]
  },
  {
   "cell_type": "code",
   "execution_count": 21,
   "id": "018a8c53",
   "metadata": {},
   "outputs": [
    {
     "name": "stdout",
     "output_type": "stream",
     "text": [
      "        Name  Age\n",
      "0       Luke   23\n",
      "1       Leia   23\n",
      "2  Hans Solo   36\n",
      "3   Chebacca  203\n"
     ]
    }
   ],
   "source": [
    "data=[['Luke',23],['Leia',23],['Hans Solo',36],['Chebacca',203]]\n",
    "SW_df=pd.DataFrame(data,columns=['Name','Age'])\n",
    "print(SW_df)"
   ]
  },
  {
   "cell_type": "markdown",
   "id": "4662eaf4",
   "metadata": {},
   "source": [
    "You can access the first entry using the row index `0`"
   ]
  },
  {
   "cell_type": "code",
   "execution_count": 22,
   "id": "536f951b",
   "metadata": {},
   "outputs": [
    {
     "name": "stdout",
     "output_type": "stream",
     "text": [
      "Name    Luke\n",
      "Age       23\n",
      "Name: 0, dtype: object\n"
     ]
    }
   ],
   "source": [
    "print(SW_df.loc[0])"
   ]
  },
  {
   "cell_type": "markdown",
   "id": "59bc688a",
   "metadata": {},
   "source": [
    "Again, you can use named indices if you wish."
   ]
  },
  {
   "cell_type": "code",
   "execution_count": 23,
   "id": "a5079ea2",
   "metadata": {},
   "outputs": [
    {
     "name": "stdout",
     "output_type": "stream",
     "text": [
      "             Name  Age\n",
      "char-1       Luke   23\n",
      "char-2       Leia   23\n",
      "char-3  Hans Solo   36\n",
      "char-4   Chebacca  203\n"
     ]
    }
   ],
   "source": [
    "SW_df=pd.DataFrame(data,columns=['Name','Age'],index=['char-1','char-2','char-3','char-4'])\n",
    "print(SW_df)"
   ]
  },
  {
   "cell_type": "markdown",
   "id": "2f458a2a",
   "metadata": {},
   "source": [
    "Now, if you want to query, you have to use the row's `named index`."
   ]
  },
  {
   "cell_type": "code",
   "execution_count": 24,
   "id": "367e6eca",
   "metadata": {},
   "outputs": [
    {
     "name": "stdout",
     "output_type": "stream",
     "text": [
      "Name    Luke\n",
      "Age       23\n",
      "Name: char-1, dtype: object\n"
     ]
    }
   ],
   "source": [
    "print(SW_df.loc['char-1'])"
   ]
  },
  {
   "cell_type": "markdown",
   "id": "b37f9c53",
   "metadata": {},
   "source": [
    "For non-string columns, you can do quick statistics with the `describe` function."
   ]
  },
  {
   "cell_type": "code",
   "execution_count": 25,
   "id": "65ff96b3",
   "metadata": {},
   "outputs": [
    {
     "data": {
      "text/html": [
       "<div>\n",
       "<style scoped>\n",
       "    .dataframe tbody tr th:only-of-type {\n",
       "        vertical-align: middle;\n",
       "    }\n",
       "\n",
       "    .dataframe tbody tr th {\n",
       "        vertical-align: top;\n",
       "    }\n",
       "\n",
       "    .dataframe thead th {\n",
       "        text-align: right;\n",
       "    }\n",
       "</style>\n",
       "<table border=\"1\" class=\"dataframe\">\n",
       "  <thead>\n",
       "    <tr style=\"text-align: right;\">\n",
       "      <th></th>\n",
       "      <th>Age</th>\n",
       "    </tr>\n",
       "  </thead>\n",
       "  <tbody>\n",
       "    <tr>\n",
       "      <th>count</th>\n",
       "      <td>4.000000</td>\n",
       "    </tr>\n",
       "    <tr>\n",
       "      <th>mean</th>\n",
       "      <td>71.250000</td>\n",
       "    </tr>\n",
       "    <tr>\n",
       "      <th>std</th>\n",
       "      <td>88.046863</td>\n",
       "    </tr>\n",
       "    <tr>\n",
       "      <th>min</th>\n",
       "      <td>23.000000</td>\n",
       "    </tr>\n",
       "    <tr>\n",
       "      <th>25%</th>\n",
       "      <td>23.000000</td>\n",
       "    </tr>\n",
       "    <tr>\n",
       "      <th>50%</th>\n",
       "      <td>29.500000</td>\n",
       "    </tr>\n",
       "    <tr>\n",
       "      <th>75%</th>\n",
       "      <td>77.750000</td>\n",
       "    </tr>\n",
       "    <tr>\n",
       "      <th>max</th>\n",
       "      <td>203.000000</td>\n",
       "    </tr>\n",
       "  </tbody>\n",
       "</table>\n",
       "</div>"
      ],
      "text/plain": [
       "              Age\n",
       "count    4.000000\n",
       "mean    71.250000\n",
       "std     88.046863\n",
       "min     23.000000\n",
       "25%     23.000000\n",
       "50%     29.500000\n",
       "75%     77.750000\n",
       "max    203.000000"
      ]
     },
     "execution_count": 25,
     "metadata": {},
     "output_type": "execute_result"
    }
   ],
   "source": [
    "SW_df.describe()"
   ]
  },
  {
   "cell_type": "markdown",
   "id": "b207777f",
   "metadata": {},
   "source": [
    "For fun, let's add one more column."
   ]
  },
  {
   "cell_type": "code",
   "execution_count": 26,
   "id": "8b583329",
   "metadata": {},
   "outputs": [
    {
     "name": "stdout",
     "output_type": "stream",
     "text": [
      "             Name  Age  Popularity\n",
      "char-1       Luke   23           6\n",
      "char-2       Leia   23           9\n",
      "char-3  Hans Solo   36           9\n",
      "char-4   Chebacca  203           8\n"
     ]
    }
   ],
   "source": [
    "SW_df['Popularity']=[6,9,9,8]\n",
    "print(SW_df)"
   ]
  },
  {
   "cell_type": "code",
   "execution_count": 27,
   "id": "90c94c26",
   "metadata": {},
   "outputs": [
    {
     "data": {
      "text/html": [
       "<div>\n",
       "<style scoped>\n",
       "    .dataframe tbody tr th:only-of-type {\n",
       "        vertical-align: middle;\n",
       "    }\n",
       "\n",
       "    .dataframe tbody tr th {\n",
       "        vertical-align: top;\n",
       "    }\n",
       "\n",
       "    .dataframe thead th {\n",
       "        text-align: right;\n",
       "    }\n",
       "</style>\n",
       "<table border=\"1\" class=\"dataframe\">\n",
       "  <thead>\n",
       "    <tr style=\"text-align: right;\">\n",
       "      <th></th>\n",
       "      <th>Age</th>\n",
       "      <th>Popularity</th>\n",
       "    </tr>\n",
       "  </thead>\n",
       "  <tbody>\n",
       "    <tr>\n",
       "      <th>count</th>\n",
       "      <td>4.000000</td>\n",
       "      <td>4.000000</td>\n",
       "    </tr>\n",
       "    <tr>\n",
       "      <th>mean</th>\n",
       "      <td>71.250000</td>\n",
       "      <td>8.000000</td>\n",
       "    </tr>\n",
       "    <tr>\n",
       "      <th>std</th>\n",
       "      <td>88.046863</td>\n",
       "      <td>1.414214</td>\n",
       "    </tr>\n",
       "    <tr>\n",
       "      <th>min</th>\n",
       "      <td>23.000000</td>\n",
       "      <td>6.000000</td>\n",
       "    </tr>\n",
       "    <tr>\n",
       "      <th>25%</th>\n",
       "      <td>23.000000</td>\n",
       "      <td>7.500000</td>\n",
       "    </tr>\n",
       "    <tr>\n",
       "      <th>50%</th>\n",
       "      <td>29.500000</td>\n",
       "      <td>8.500000</td>\n",
       "    </tr>\n",
       "    <tr>\n",
       "      <th>75%</th>\n",
       "      <td>77.750000</td>\n",
       "      <td>9.000000</td>\n",
       "    </tr>\n",
       "    <tr>\n",
       "      <th>max</th>\n",
       "      <td>203.000000</td>\n",
       "      <td>9.000000</td>\n",
       "    </tr>\n",
       "  </tbody>\n",
       "</table>\n",
       "</div>"
      ],
      "text/plain": [
       "              Age  Popularity\n",
       "count    4.000000    4.000000\n",
       "mean    71.250000    8.000000\n",
       "std     88.046863    1.414214\n",
       "min     23.000000    6.000000\n",
       "25%     23.000000    7.500000\n",
       "50%     29.500000    8.500000\n",
       "75%     77.750000    9.000000\n",
       "max    203.000000    9.000000"
      ]
     },
     "execution_count": 27,
     "metadata": {},
     "output_type": "execute_result"
    }
   ],
   "source": [
    "SW_df.describe()"
   ]
  },
  {
   "cell_type": "markdown",
   "id": "bc03843d",
   "metadata": {},
   "source": [
    "The `corr` function lets you calculate the Pearson correlation between numerical columns."
   ]
  },
  {
   "cell_type": "code",
   "execution_count": 28,
   "id": "bf89d022",
   "metadata": {},
   "outputs": [
    {
     "data": {
      "text/html": [
       "<div>\n",
       "<style scoped>\n",
       "    .dataframe tbody tr th:only-of-type {\n",
       "        vertical-align: middle;\n",
       "    }\n",
       "\n",
       "    .dataframe tbody tr th {\n",
       "        vertical-align: top;\n",
       "    }\n",
       "\n",
       "    .dataframe thead th {\n",
       "        text-align: right;\n",
       "    }\n",
       "</style>\n",
       "<table border=\"1\" class=\"dataframe\">\n",
       "  <thead>\n",
       "    <tr style=\"text-align: right;\">\n",
       "      <th></th>\n",
       "      <th>Age</th>\n",
       "      <th>Popularity</th>\n",
       "    </tr>\n",
       "  </thead>\n",
       "  <tbody>\n",
       "    <tr>\n",
       "      <th>Age</th>\n",
       "      <td>1.000000</td>\n",
       "      <td>0.034801</td>\n",
       "    </tr>\n",
       "    <tr>\n",
       "      <th>Popularity</th>\n",
       "      <td>0.034801</td>\n",
       "      <td>1.000000</td>\n",
       "    </tr>\n",
       "  </tbody>\n",
       "</table>\n",
       "</div>"
      ],
      "text/plain": [
       "                 Age  Popularity\n",
       "Age         1.000000    0.034801\n",
       "Popularity  0.034801    1.000000"
      ]
     },
     "execution_count": 28,
     "metadata": {},
     "output_type": "execute_result"
    }
   ],
   "source": [
    "SW_df.corr()"
   ]
  },
  {
   "cell_type": "markdown",
   "id": "bb19d9b2",
   "metadata": {},
   "source": [
    "The output is a matrix, called the `correlation matrix`. A value of `1.0` for the off-diagonal elements means, there is perfect correlation between the columns. For a small dataset such as this, one would consider a value of `> 0.9` to be a good correlation. In any case, what we learn from a small value of `0.034` is that `Age` and `Popularity` do not correlate at all!"
   ]
  },
  {
   "cell_type": "markdown",
   "id": "5f872592",
   "metadata": {},
   "source": [
    "If you want to learn more about the formula/algorithm used for determining the correlation matrix, then you will have to go through the manual page [https://pandas.pydata.org/docs/reference/api/pandas.DataFrame.corr.html](https://pandas.pydata.org/docs/reference/api/pandas.DataFrame.corr.html).\n",
    "\n",
    "The default method to determine the correlation matrix is using the Pearson method, which is easy to code ourselves. So let's see what's under the hood! The elements of the correlation matrix is defined as $\\rho_{X,Y}=\\frac{{\\rm cov}(X,Y)}{\\sigma_{X}\\sigma_{Y}}$, where is $X$ and $Y$ are two columns of the dataframe. The following code clarifies the meaning of each term in the formula."
   ]
  },
  {
   "cell_type": "code",
   "execution_count": 29,
   "id": "25d74f38",
   "metadata": {},
   "outputs": [
    {
     "name": "stdout",
     "output_type": "stream",
     "text": [
      "71.25 76.25081966772554\n",
      "8.0 1.224744871391589\n",
      "0.0348011195103034\n"
     ]
    }
   ],
   "source": [
    "import numpy as np\n",
    "\n",
    "x=np.array(SW_df['Age'])\n",
    "y=np.array(SW_df['Popularity'])\n",
    "\n",
    "mu_x=np.mean(x)       # mean\n",
    "sigma_x=np.std(x)     # std. deviation\n",
    "print(mu_x,sigma_x)\n",
    "\n",
    "mu_y=np.mean(y)       # mean\n",
    "sigma_y=np.std(y)     # std. deviation\n",
    "print(mu_y,sigma_y)\n",
    "\n",
    "covariance=np.mean( (x-mu_x) * (y-mu_y) )\n",
    "correlation=covariance/(sigma_x*sigma_y)\n",
    "\n",
    "print(correlation)"
   ]
  },
  {
   "cell_type": "markdown",
   "id": "2ab578e4",
   "metadata": {},
   "source": [
    "A very common function to use with dataframes is to quickly have a glance at the histrogram of values."
   ]
  },
  {
   "cell_type": "code",
   "execution_count": 30,
   "id": "e60b629e",
   "metadata": {},
   "outputs": [
    {
     "data": {
      "text/plain": [
       "<AxesSubplot:ylabel='Frequency'>"
      ]
     },
     "execution_count": 30,
     "metadata": {},
     "output_type": "execute_result"
    },
    {
     "data": {
      "image/png": "[encoded data removed]",
      "text/plain": [
       "<Figure size 432x288 with 1 Axes>"
      ]
     },
     "metadata": {
      "needs_background": "light"
     },
     "output_type": "display_data"
    }
   ],
   "source": [
    "SW_df.plot.hist(bins=200, alpha=1.0)"
   ]
  },
  {
   "cell_type": "markdown",
   "id": "f75cf9fc",
   "metadata": {},
   "source": [
    "There's a cool way to make pairwise scatter plots of all the columns (we'll later call each column as a feature). "
   ]
  },
  {
   "cell_type": "code",
   "execution_count": 35,
   "id": "a0a7abad",
   "metadata": {},
   "outputs": [
    {
     "data": {
      "image/png": "[encoded data removed]",
      "text/plain": [
       "<Figure size 360x360 with 4 Axes>"
      ]
     },
     "metadata": {
      "needs_background": "light"
     },
     "output_type": "display_data"
    }
   ],
   "source": [
    "from pandas.plotting import scatter_matrix\n",
    "scatter_matrix(SW_df, alpha=1.0, figsize=(5, 5), diagonal=\"kde\");"
   ]
  },
  {
   "cell_type": "markdown",
   "id": "fa031ccc",
   "metadata": {},
   "source": [
    "Since, in the scatterplot, we do not see points coinciding with the $y=x$ line, we have conclude that the two features `Age' and `Popularity' "
   ]
  }
 ],
 "metadata": {
  "kernelspec": {
   "display_name": "Python 3",
   "language": "python",
   "name": "python3"
  },
  "language_info": {
   "codemirror_mode": {
    "name": "ipython",
    "version": 3
   },
   "file_extension": ".py",
   "mimetype": "text/x-python",
   "name": "python",
   "nbconvert_exporter": "python",
   "pygments_lexer": "ipython3",
   "version": "3.9.4"
  }
 },
 "nbformat": 4,
 "nbformat_minor": 5
}
